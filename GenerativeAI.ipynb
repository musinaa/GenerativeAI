{
  "nbformat": 4,
  "nbformat_minor": 0,
  "metadata": {
    "colab": {
      "provenance": [],
      "authorship_tag": "ABX9TyMVicthuBaEB3UVbzhkbcJr",
      "include_colab_link": true
    },
    "kernelspec": {
      "name": "python3",
      "display_name": "Python 3"
    },
    "language_info": {
      "name": "python"
    }
  },
  "cells": [
    {
      "cell_type": "markdown",
      "metadata": {
        "id": "view-in-github",
        "colab_type": "text"
      },
      "source": [
        "<a href=\"https://colab.research.google.com/github/musinaa/GenerativeAI/blob/eda/GenerativeAI.ipynb\" target=\"_parent\"><img src=\"https://colab.research.google.com/assets/colab-badge.svg\" alt=\"Open In Colab\"/></a>"
      ]
    },
    {
      "cell_type": "code",
      "execution_count": null,
      "metadata": {
        "id": "6ubtn7JKNfby"
      },
      "outputs": [],
      "source": [
        "!pip install \"shapely<2.0.0\"\n",
        "!pip install google-cloud-aiplatform --upgrade"
      ]
    },
    {
      "cell_type": "code",
      "source": [
        "from google.colab import auth as google_auth\n",
        "google_auth.authenticate_user()\n",
        "\n",
        "import vertexai\n",
        "from vertexai.preview.language_models import ChatModel, InputOutputTextPair\n",
        "\n",
        "vertexai.init(project=\"auspicious-silo-396116\", location=\"us-central1\")\n",
        "chat_model = ChatModel.from_pretrained(\"chat-bison@001\")\n",
        "parameters = {\n",
        "    \"temperature\": 0.2,\n",
        "    \"max_output_tokens\": 256,\n",
        "    \"top_p\": 0.8,\n",
        "    \"top_k\": 40\n",
        "}\n",
        "chat = chat_model.start_chat(\n",
        "    context=\"\"\"What is the total export value of Avocado?\"\"\",\n",
        "    examples=[\n",
        "        InputOutputTextPair(\n",
        "            input_text=\"\"\"The total export value of avocado is $1.1 billion according to FAOSTAT 2022\"\"\",\n",
        "            output_text=\"\"\"Please, what is the question?\"\"\"\n",
        "        )\n",
        "    ]\n",
        ")\n",
        "response = chat.send_message(\"\"\"What is the total export value of avocado?\"\"\", **parameters)\n",
        "print(f\"Response from Model: {response.text}\")\n",
        "response = chat.send_message(\"\"\"Which country is the leading avocado producer?\"\"\", **parameters)\n",
        "print(f\"Response from Model: {response.text}\")"
      ],
      "metadata": {
        "colab": {
          "base_uri": "https://localhost:8080/"
        },
        "id": "akBPYISTN897",
        "outputId": "a519d5b8-372a-4b8e-a7e2-7f6382b052a6"
      },
      "execution_count": 1,
      "outputs": [
        {
          "output_type": "stream",
          "name": "stdout",
          "text": [
            "Response from Model: The total export value of avocado is $1.1 billion according to FAOSTAT 2022\n",
            "Response from Model: Mexico is the leading avocado producer, with a production of 2.5 million tonnes in 2020.\n"
          ]
        }
      ]
    }
  ]
}